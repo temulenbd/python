{
 "cells": [
  {
   "cell_type": "markdown",
   "metadata": {},
   "source": [
    "# VARIABLE NAMES"
   ]
  },
  {
   "cell_type": "markdown",
   "metadata": {},
   "source": [
    "Key Rules for Valid Python Variable Names:\n",
    "\n",
    "1. Must start with a letter (a-z, A-Z) or an underscore (_).\n",
    "2. Can include letters, numbers, and underscores.\n",
    "3. Cannot start with a number.\n",
    "4. Cannot use reserved keywords (like class, for, if, etc.).\n",
    "5. Cannot include special characters (like @, #, -, etc.)."
   ]
  },
  {
   "cell_type": "markdown",
   "metadata": {},
   "source": [
    "EXAMPLE\n",
    "\n",
    "    VALID VARIABLE NAMES        INVALID VARIABLE NAMES\n",
    "    current_balance             current-balance             - hyphens are not allowed\n",
    "    currentBalance              current balance             - spaces are not allowed\n",
    "    account4                    4account                    - can't begin with a number\n",
    "    _42                         42                          - can't begin with a number\n",
    "    TOTAL_SUM                   TOTAL_$UM                   - special characters like $ are not allowed\n",
    "    hello                       'hello'                     - special characters like ' are not allowed"
   ]
  }
 ],
 "metadata": {
  "kernelspec": {
   "display_name": "base",
   "language": "python",
   "name": "python3"
  },
  "language_info": {
   "codemirror_mode": {
    "name": "ipython",
    "version": 3
   },
   "file_extension": ".py",
   "mimetype": "text/x-python",
   "name": "python",
   "nbconvert_exporter": "python",
   "pygments_lexer": "ipython3",
   "version": "3.11.4"
  }
 },
 "nbformat": 4,
 "nbformat_minor": 2
}
