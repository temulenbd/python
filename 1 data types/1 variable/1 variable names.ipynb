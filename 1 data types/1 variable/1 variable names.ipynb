{
 "cells": [
  {
   "cell_type": "markdown",
   "metadata": {},
   "source": [
    "# VARIABLE NAMES"
   ]
  },
  {
   "cell_type": "markdown",
   "metadata": {},
   "source": [
    "Key rules for valid Python variable names:\n",
    "\n",
    "1. must start with a letter (a-z, A-Z) or an underscore (_).\n",
    "2. can include letters, numbers, and underscores.\n",
    "3. cannot start with a number.\n",
    "4. cannot use reserved keywords (like class, for, if, etc.).\n",
    "5. cannot include special characters (like @, #, -, etc.)."
   ]
  },
  {
   "cell_type": "markdown",
   "metadata": {},
   "source": [
    "EXAMPLE:\n",
    "\n",
    "| valid names | invalid names | reason |\n",
    "|----------------------|------------------------|--------|\n",
    "| current_balance | current-balance | hyphens are not allowed |\n",
    "| currentBalance | current balance | spaces are not allowed | \n",
    "| account4 | 4account | can't begin with a number | \n",
    "| _42 | 42 | can't begin with a number | \n",
    "| TOTAL_SUM | TOTAL_$UM | special characters like $ are not allowed | \n",
    "| hello | 'hello' | special characters like ' are not allowed | "
   ]
  },
  {
   "cell_type": "code",
   "execution_count": 1,
   "metadata": {},
   "outputs": [
    {
     "name": "stdout",
     "output_type": "stream",
     "text": [
      "hello\n"
     ]
    }
   ],
   "source": [
    "valid_variable = 'hello'\n",
    "print(valid_variable)"
   ]
  },
  {
   "cell_type": "code",
   "execution_count": 2,
   "metadata": {},
   "outputs": [
    {
     "ename": "SyntaxError",
     "evalue": "cannot assign to expression here. Maybe you meant '==' instead of '='? (3112596052.py, line 1)",
     "output_type": "error",
     "traceback": [
      "\u001b[1;36m  Cell \u001b[1;32mIn[2], line 1\u001b[1;36m\u001b[0m\n\u001b[1;33m    invalid-variable = 'world'\u001b[0m\n\u001b[1;37m    ^\u001b[0m\n\u001b[1;31mSyntaxError\u001b[0m\u001b[1;31m:\u001b[0m cannot assign to expression here. Maybe you meant '==' instead of '='?\n"
     ]
    }
   ],
   "source": [
    "invalid-variable = 'world'\n",
    "print(invalid-variable)"
   ]
  }
 ],
 "metadata": {
  "kernelspec": {
   "display_name": "base",
   "language": "python",
   "name": "python3"
  },
  "language_info": {
   "codemirror_mode": {
    "name": "ipython",
    "version": 3
   },
   "file_extension": ".py",
   "mimetype": "text/x-python",
   "name": "python",
   "nbconvert_exporter": "python",
   "pygments_lexer": "ipython3",
   "version": "3.11.4"
  }
 },
 "nbformat": 4,
 "nbformat_minor": 2
}
