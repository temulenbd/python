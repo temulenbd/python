{
 "cells": [
  {
   "cell_type": "markdown",
   "metadata": {},
   "source": [
    "# VARIABLE ASSIGNMENT"
   ]
  },
  {
   "cell_type": "markdown",
   "metadata": {},
   "source": [
    "Python variables act as containers for storing data values. Unlike languages like Java, Python does not require a specific command to declare a variable; it is created as soon as a value is assigned to it."
   ]
  },
  {
   "cell_type": "code",
   "execution_count": 1,
   "metadata": {},
   "outputs": [],
   "source": [
    "# Create a variable.\n",
    "new_variable = 42"
   ]
  },
  {
   "cell_type": "markdown",
   "metadata": {},
   "source": [
    "Each variable is linked to a value, which represents the information associated with it. Values are stored in variables through an **assignment statement**. This statement consists of a variable name, an equal sign (known as the assignment operator), and the value to be stored."
   ]
  },
  {
   "cell_type": "markdown",
   "metadata": {},
   "source": [
    "## Types of assignments:"
   ]
  },
  {
   "cell_type": "markdown",
   "metadata": {},
   "source": [
    "### 1 single value assignment"
   ]
  },
  {
   "cell_type": "code",
   "execution_count": 2,
   "metadata": {},
   "outputs": [
    {
     "name": "stdout",
     "output_type": "stream",
     "text": [
      "10\n",
      "ALEX\n"
     ]
    }
   ],
   "source": [
    "x = 10  # Assigns the value 10 to the variable <x>.\n",
    "name = 'ALEX' # Assigns the string 'TEE' to the variable <name>.\n",
    "\n",
    "# Check the assignment.\n",
    "print(x)\n",
    "print(name)"
   ]
  },
  {
   "cell_type": "markdown",
   "metadata": {},
   "source": [
    "### 2 multiple value assignments"
   ]
  },
  {
   "cell_type": "code",
   "execution_count": 3,
   "metadata": {},
   "outputs": [
    {
     "name": "stdout",
     "output_type": "stream",
     "text": [
      "1 hello 3\n",
      "hello 2 hello\n"
     ]
    }
   ],
   "source": [
    "a, b, c = 1, 2, 3  # Assigns 1 to a, 2 to b, and 3 to c.\n",
    "x = y = z = 'hello'  # Assigns 'hello' to x, y, and z.\n",
    "\n",
    "# Check assignments.\n",
    "print(a, y, c)\n",
    "print(x, b, z)"
   ]
  },
  {
   "cell_type": "markdown",
   "metadata": {},
   "source": [
    "### 3 assigning values using expressions"
   ]
  },
  {
   "cell_type": "code",
   "execution_count": 4,
   "metadata": {},
   "outputs": [
    {
     "name": "stdout",
     "output_type": "stream",
     "text": [
      "12\n",
      "10\n"
     ]
    }
   ],
   "source": [
    "sum_value = 5 + 7  # Assigns the result of 5 + 7 (12) to sum_value.\n",
    "\n",
    "length, width = 2, 5\n",
    "area = length * width  # Uses other variables in the assignment.\n",
    "\n",
    "# Check assignments.\n",
    "print(sum_value)\n",
    "print(area)"
   ]
  },
  {
   "cell_type": "markdown",
   "metadata": {},
   "source": [
    "### 4 updating or overwriting variables\n",
    "\n",
    "A variable is ***initialized*** (or created) when it is first assigned a value. After initialization, it can be used in expressions alongside other variables and values. When a new value is assigned to a variable, the previous value is overwritten, which is why *spam* evaluated to *40* instead of *42*. This process is known as ***overwriting*** the variable."
   ]
  },
  {
   "cell_type": "code",
   "execution_count": 5,
   "metadata": {},
   "outputs": [],
   "source": [
    "spam = 42\n",
    "spam = 40"
   ]
  }
 ],
 "metadata": {
  "kernelspec": {
   "display_name": "base",
   "language": "python",
   "name": "python3"
  },
  "language_info": {
   "codemirror_mode": {
    "name": "ipython",
    "version": 3
   },
   "file_extension": ".py",
   "mimetype": "text/x-python",
   "name": "python",
   "nbconvert_exporter": "python",
   "pygments_lexer": "ipython3",
   "version": "3.11.4"
  }
 },
 "nbformat": 4,
 "nbformat_minor": 2
}
